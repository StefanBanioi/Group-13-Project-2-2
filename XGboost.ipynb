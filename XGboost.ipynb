{
  "cells": [
    {
      "cell_type": "code",
      "execution_count": 1,
      "metadata": {
        "id": "pLjRQ5d-jiJH"
      },
      "outputs": [],
      "source": [
        "import os\n",
        "import pandas as pd\n",
        "from sklearn.model_selection import train_test_split\n",
        "from sklearn.preprocessing import StandardScaler\n",
        "import xgboost as xgb\n",
        "from sklearn.model_selection import GridSearchCV\n",
        "from sklearn.model_selection import RandomizedSearchCV\n",
        "import numpy as np\n",
        "from sklearn.model_selection import cross_val_score, KFold\n",
        "from sklearn.metrics import mean_absolute_percentage_error\n",
        "import math\n",
        "from sklearn.metrics import mean_squared_error\n",
        "from sklearn.metrics import mean_absolute_error\n",
        "\n"
      ]
    },
    {
      "cell_type": "code",
      "execution_count": 2,
      "metadata": {
        "id": "EzQV8jEbjiJI"
      },
      "outputs": [],
      "source": [
        "# Path to the CSV file\n",
        "csv_file_path = 'healthinsurance2.csv'  # Replace with the actual path to your CSV file\n",
        "# Read the CSV file\n",
        "\n",
        "mydata = pd.read_csv(csv_file_path)\n",
        "\n",
        "mydata = mydata.dropna()\n"
      ]
    },
    {
      "cell_type": "code",
      "execution_count": 4,
      "metadata": {
        "colab": {
          "base_uri": "https://localhost:8080/",
          "height": 356
        },
        "id": "27IO25dEjiJJ",
        "outputId": "197d97de-f33c-4a2b-a8b2-81a7bbd30eed"
      },
      "outputs": [],
      "source": [
        "from sklearn.preprocessing import LabelEncoder\n",
        "le = LabelEncoder()\n",
        "mydata['city'] = le.fit_transform(mydata['city'])\n",
        "X = mydata.drop(columns=['claim','city'])\n",
        "y = mydata['claim']\n",
        "\n",
        "\n",
        "# X = data.drop('PremiumPrice', axis=1)\n",
        "# y = data['PremiumPrice']\n",
        "X_train, X_test, y_train, y_test = train_test_split(X, y, test_size=0.25, random_state=69)\n",
        "scaler = StandardScaler()\n",
        "scaler.fit(X_train)\n",
        "X_scaled = scaler.transform(X)\n",
        "X_train_scaled = scaler.transform(X_train)\n",
        "X_test_scaled = scaler.transform(X_test)"
      ]
    },
    {
      "cell_type": "code",
      "execution_count": 5,
      "metadata": {
        "id": "cxA-PIGXjiJJ"
      },
      "outputs": [
        {
          "data": {
            "text/html": [
              "<style>#sk-container-id-1 {color: black;}#sk-container-id-1 pre{padding: 0;}#sk-container-id-1 div.sk-toggleable {background-color: white;}#sk-container-id-1 label.sk-toggleable__label {cursor: pointer;display: block;width: 100%;margin-bottom: 0;padding: 0.3em;box-sizing: border-box;text-align: center;}#sk-container-id-1 label.sk-toggleable__label-arrow:before {content: \"▸\";float: left;margin-right: 0.25em;color: #696969;}#sk-container-id-1 label.sk-toggleable__label-arrow:hover:before {color: black;}#sk-container-id-1 div.sk-estimator:hover label.sk-toggleable__label-arrow:before {color: black;}#sk-container-id-1 div.sk-toggleable__content {max-height: 0;max-width: 0;overflow: hidden;text-align: left;background-color: #f0f8ff;}#sk-container-id-1 div.sk-toggleable__content pre {margin: 0.2em;color: black;border-radius: 0.25em;background-color: #f0f8ff;}#sk-container-id-1 input.sk-toggleable__control:checked~div.sk-toggleable__content {max-height: 200px;max-width: 100%;overflow: auto;}#sk-container-id-1 input.sk-toggleable__control:checked~label.sk-toggleable__label-arrow:before {content: \"▾\";}#sk-container-id-1 div.sk-estimator input.sk-toggleable__control:checked~label.sk-toggleable__label {background-color: #d4ebff;}#sk-container-id-1 div.sk-label input.sk-toggleable__control:checked~label.sk-toggleable__label {background-color: #d4ebff;}#sk-container-id-1 input.sk-hidden--visually {border: 0;clip: rect(1px 1px 1px 1px);clip: rect(1px, 1px, 1px, 1px);height: 1px;margin: -1px;overflow: hidden;padding: 0;position: absolute;width: 1px;}#sk-container-id-1 div.sk-estimator {font-family: monospace;background-color: #f0f8ff;border: 1px dotted black;border-radius: 0.25em;box-sizing: border-box;margin-bottom: 0.5em;}#sk-container-id-1 div.sk-estimator:hover {background-color: #d4ebff;}#sk-container-id-1 div.sk-parallel-item::after {content: \"\";width: 100%;border-bottom: 1px solid gray;flex-grow: 1;}#sk-container-id-1 div.sk-label:hover label.sk-toggleable__label {background-color: #d4ebff;}#sk-container-id-1 div.sk-serial::before {content: \"\";position: absolute;border-left: 1px solid gray;box-sizing: border-box;top: 0;bottom: 0;left: 50%;z-index: 0;}#sk-container-id-1 div.sk-serial {display: flex;flex-direction: column;align-items: center;background-color: white;padding-right: 0.2em;padding-left: 0.2em;position: relative;}#sk-container-id-1 div.sk-item {position: relative;z-index: 1;}#sk-container-id-1 div.sk-parallel {display: flex;align-items: stretch;justify-content: center;background-color: white;position: relative;}#sk-container-id-1 div.sk-item::before, #sk-container-id-1 div.sk-parallel-item::before {content: \"\";position: absolute;border-left: 1px solid gray;box-sizing: border-box;top: 0;bottom: 0;left: 50%;z-index: -1;}#sk-container-id-1 div.sk-parallel-item {display: flex;flex-direction: column;z-index: 1;position: relative;background-color: white;}#sk-container-id-1 div.sk-parallel-item:first-child::after {align-self: flex-end;width: 50%;}#sk-container-id-1 div.sk-parallel-item:last-child::after {align-self: flex-start;width: 50%;}#sk-container-id-1 div.sk-parallel-item:only-child::after {width: 0;}#sk-container-id-1 div.sk-dashed-wrapped {border: 1px dashed gray;margin: 0 0.4em 0.5em 0.4em;box-sizing: border-box;padding-bottom: 0.4em;background-color: white;}#sk-container-id-1 div.sk-label label {font-family: monospace;font-weight: bold;display: inline-block;line-height: 1.2em;}#sk-container-id-1 div.sk-label-container {text-align: center;}#sk-container-id-1 div.sk-container {/* jupyter's `normalize.less` sets `[hidden] { display: none; }` but bootstrap.min.css set `[hidden] { display: none !important; }` so we also need the `!important` here to be able to override the default hidden behavior on the sphinx rendered scikit-learn.org. See: https://github.com/scikit-learn/scikit-learn/issues/21755 */display: inline-block !important;position: relative;}#sk-container-id-1 div.sk-text-repr-fallback {display: none;}</style><div id=\"sk-container-id-1\" class=\"sk-top-container\"><div class=\"sk-text-repr-fallback\"><pre>XGBRegressor(base_score=None, booster=None, callbacks=None,\n",
              "             colsample_bylevel=None, colsample_bynode=None,\n",
              "             colsample_bytree=0.85, device=None, early_stopping_rounds=None,\n",
              "             enable_categorical=False, eval_metric=None, feature_types=None,\n",
              "             gamma=None, grow_policy=None, importance_type=None,\n",
              "             interaction_constraints=None, learning_rate=0.03, max_bin=None,\n",
              "             max_cat_threshold=None, max_cat_to_onehot=None,\n",
              "             max_delta_step=None, max_depth=32, max_leaves=None,\n",
              "             min_child_weight=None, missing=nan, monotone_constraints=None,\n",
              "             multi_strategy=None, n_estimators=475, n_jobs=None,\n",
              "             num_parallel_tree=None, random_state=69, ...)</pre><b>In a Jupyter environment, please rerun this cell to show the HTML representation or trust the notebook. <br />On GitHub, the HTML representation is unable to render, please try loading this page with nbviewer.org.</b></div><div class=\"sk-container\" hidden><div class=\"sk-item\"><div class=\"sk-estimator sk-toggleable\"><input class=\"sk-toggleable__control sk-hidden--visually\" id=\"sk-estimator-id-1\" type=\"checkbox\" checked><label for=\"sk-estimator-id-1\" class=\"sk-toggleable__label sk-toggleable__label-arrow\">XGBRegressor</label><div class=\"sk-toggleable__content\"><pre>XGBRegressor(base_score=None, booster=None, callbacks=None,\n",
              "             colsample_bylevel=None, colsample_bynode=None,\n",
              "             colsample_bytree=0.85, device=None, early_stopping_rounds=None,\n",
              "             enable_categorical=False, eval_metric=None, feature_types=None,\n",
              "             gamma=None, grow_policy=None, importance_type=None,\n",
              "             interaction_constraints=None, learning_rate=0.03, max_bin=None,\n",
              "             max_cat_threshold=None, max_cat_to_onehot=None,\n",
              "             max_delta_step=None, max_depth=32, max_leaves=None,\n",
              "             min_child_weight=None, missing=nan, monotone_constraints=None,\n",
              "             multi_strategy=None, n_estimators=475, n_jobs=None,\n",
              "             num_parallel_tree=None, random_state=69, ...)</pre></div></div></div></div></div>"
            ],
            "text/plain": [
              "XGBRegressor(base_score=None, booster=None, callbacks=None,\n",
              "             colsample_bylevel=None, colsample_bynode=None,\n",
              "             colsample_bytree=0.85, device=None, early_stopping_rounds=None,\n",
              "             enable_categorical=False, eval_metric=None, feature_types=None,\n",
              "             gamma=None, grow_policy=None, importance_type=None,\n",
              "             interaction_constraints=None, learning_rate=0.03, max_bin=None,\n",
              "             max_cat_threshold=None, max_cat_to_onehot=None,\n",
              "             max_delta_step=None, max_depth=32, max_leaves=None,\n",
              "             min_child_weight=None, missing=nan, monotone_constraints=None,\n",
              "             multi_strategy=None, n_estimators=475, n_jobs=None,\n",
              "             num_parallel_tree=None, random_state=69, ...)"
            ]
          },
          "execution_count": 5,
          "metadata": {},
          "output_type": "execute_result"
        }
      ],
      "source": [
        "# # Create an instance of XGBRegressor with the given parameters\n",
        "model = xgb.XGBRegressor(\n",
        "        tree_method='hist',  # Comment out if no GPU is available\n",
        "        max_depth=32,\n",
        "        learning_rate=0.03,\n",
        "        n_estimators=475,\n",
        "        subsample=0.65,\n",
        "        colsample_bytree=0.85,\n",
        "        random_state = 69)\n",
        "# possibleParameters= {\n",
        "#   'max_depth' : range (2, 51, 1),\n",
        "#   'n_estimators'  : range (50,1000,25),\n",
        "#   'learning_rate' : [0.01, 0.02,0.03,0.05,0.1,0.2],\n",
        "#   'subsample':  [0.65,0.7,0.75,0.8,0.85,0.95,1],\n",
        "#   'colsample_bytree':[0.80,0.85,0.90,0.95,1],\n",
        "# }\n",
        "\n",
        "\n",
        "# rand_search = RandomizedSearchCV(\n",
        "#     xgb.XGBRegressor(random_state=69),\n",
        "#     param_distributions=possibleParameters,\n",
        "#     n_iter=300,  # Set the number of iterations to 1\n",
        "#     cv=5, n_jobs=-1\n",
        "# )\n",
        "# rand_search.fit(X_train_scaled, y_train)\n",
        "\n",
        "# best_params = rand_search.best_params_\n",
        "\n",
        "# print(\"Best Parameters:\", best_params)\n",
        "\n",
        "\n",
        "# #best parameters\n",
        "\n",
        "\n",
        "# #predictions using the best model\n",
        "# model = rand_search.best_estimator_\n",
        "# Fit the model to the training data\n",
        "model.fit(X_train_scaled, y_train)"
      ]
    },
    {
      "cell_type": "code",
      "execution_count": 8,
      "metadata": {
        "id": "PoPOvgiZekTl"
      },
      "outputs": [
        {
          "name": "stdout",
          "output_type": "stream",
          "text": [
            "[11253.413   7152.75   28468.795  ...  1146.8146  7323.691  18223.47  ]\n",
            "[10942.112   1629.8191 14283.488  ...  4934.718   8824.014  12129.614 ]\n"
          ]
        }
      ],
      "source": [
        "y_pred = model.predict(X_test_scaled)\n",
        "print(y_pred)\n",
        "y_pred_train = model.predict(X_train_scaled)\n",
        "print(y_pred_train)"
      ]
    },
    {
      "cell_type": "code",
      "execution_count": 9,
      "metadata": {
        "id": "O6BjCdughG2V"
      },
      "outputs": [
        {
          "name": "stdout",
          "output_type": "stream",
          "text": [
            "test data\n",
            "326.95940794324264\n",
            "1979.2278386340836\n",
            "0.024785364905980326\n",
            "train data\n",
            "2.0517368807090324\n",
            "17.37210453920741\n",
            "0.000166802773195443\n"
          ]
        },
        {
          "ename": "",
          "evalue": "",
          "output_type": "error",
          "traceback": [
            "\u001b[1;31mThe Kernel crashed while executing code in the current cell or a previous cell. \n",
            "\u001b[1;31mPlease review the code in the cell(s) to identify a possible cause of the failure. \n",
            "\u001b[1;31mClick <a href='https://aka.ms/vscodeJupyterKernelCrash'>here</a> for more info. \n",
            "\u001b[1;31mView Jupyter <a href='command:jupyter.viewOutput'>log</a> for further details."
          ]
        }
      ],
      "source": [
        "mae = mean_absolute_error(y_test, y_pred)\n",
        "mse = mean_squared_error(y_test, y_pred)\n",
        "mape= mean_absolute_percentage_error(y_test,y_pred)\n",
        "\n",
        "mae_train= mean_absolute_error(y_train, y_pred_train)\n",
        "mse_train= mean_squared_error(y_train,y_pred_train)\n",
        "mape_train= mean_absolute_percentage_error(y_train,y_pred_train)\n",
        "print('test data')\n",
        "print(mae)\n",
        "print(math.sqrt(mse))\n",
        "print(mape)\n",
        "print('train data')\n",
        "print(mae_train)\n",
        "print(math.sqrt(mse_train))\n",
        "print(mape_train)\n"
      ]
    },
    {
      "cell_type": "code",
      "execution_count": 7,
      "metadata": {
        "id": "s_CN6lO7lgHP"
      },
      "outputs": [],
      "source": [
        "# from sklearn.ensemble import BaggingRegressor\n",
        "# bagging_model = BaggingRegressor(\n",
        "#     base_estimator=model,\n",
        "#     n_estimators=10,       # Number of bootstrap samples\n",
        "#     bootstrap=True,        # Use bootstrapped samples\n",
        "#     n_jobs=-1,\n",
        "#     random_state = 69# Use all available cores\n",
        "# )"
      ]
    },
    {
      "cell_type": "code",
      "execution_count": 8,
      "metadata": {
        "id": "U-FX8TlRmPMF"
      },
      "outputs": [],
      "source": [
        "# bagging_model.fit(X_train_scaled, y_train)"
      ]
    },
    {
      "cell_type": "code",
      "execution_count": 9,
      "metadata": {
        "id": "8RKSNyaEmp2v"
      },
      "outputs": [],
      "source": [
        "# y_pred2 = bagging_model.predict(X_test_scaled)"
      ]
    },
    {
      "cell_type": "code",
      "execution_count": 10,
      "metadata": {
        "id": "F1AN_j6ImY4l"
      },
      "outputs": [],
      "source": [
        "# mae = mean_absolute_error(y_test, y_pred2)\n",
        "# mse = mean_squared_error(y_test, y_pred2)\n",
        "# print(mae)\n",
        "# print(math.sqrt(mse))"
      ]
    },
    {
      "cell_type": "code",
      "execution_count": 11,
      "metadata": {
        "id": "lm44Ntj_Lt_s"
      },
      "outputs": [],
      "source": [
        "# import numpy as np\n",
        "# from sklearn.model_selection import cross_val_score, KFold\n",
        "# kf = KFold(n_splits=10, shuffle=True, random_state=69)\n",
        "# cv_mae = []\n",
        "# cv_mse = []\n",
        "\n",
        "# for train_index, test_index in kf.split(X_scaled):\n",
        "#     X_train, X_test = X_scaled[train_index], X_scaled[test_index]\n",
        "#     y_train, y_test = y.iloc[train_index], y.iloc[test_index]\n",
        "\n",
        "#     # Fit the BaggingRegressor model\n",
        "#     bagging_model.fit(X_train, y_train)\n",
        "\n",
        "#     # Predictions on the test set\n",
        "#     y_pred = bagging_model.predict(X_test)\n",
        "\n",
        "#     # Compute metrics for this fold\n",
        "#     fold_mae = mean_absolute_error(y_test, y_pred)\n",
        "#     fold_mse = mean_squared_error(y_test, y_pred)\n",
        "\n",
        "#     cv_mae.append(fold_mae)\n",
        "#     cv_mse.append(fold_mse)\n",
        "\n",
        "# # Calculate mean of metrics across folds\n",
        "# mean_cv_mae = np.mean(cv_mae)\n",
        "# mean_cv_mse = np.mean(cv_mse)\n",
        "\n",
        "# print('Mean Cross-validated MAE:', mean_cv_mae)\n",
        "# print('Mean Cross-validated RMSE:', np.sqrt(mean_cv_mse))"
      ]
    },
    {
      "cell_type": "code",
      "execution_count": 12,
      "metadata": {
        "id": "HYKjyFj0u4_-"
      },
      "outputs": [],
      "source": [
        "kf = KFold(n_splits=10, shuffle=True, random_state=69)\n",
        "cv_mae = []\n",
        "cv_mse = []\n",
        "cv_mape = []\n",
        "for train_index, test_index in kf.split(X_scaled):\n",
        "    X_train, X_test = X_scaled[train_index], X_scaled[test_index]\n",
        "    y_train, y_test = y.iloc[train_index], y.iloc[test_index]\n",
        "\n",
        "    # Fit the BaggingRegressor model\n",
        "    model.fit(X_train, y_train)\n",
        "\n",
        "    # Predictions on the test set\n",
        "    y_pred = model.predict(X_test)\n",
        "\n",
        "    # Compute metrics for this fold\n",
        "    fold_mae = mean_absolute_error(y_test, y_pred)\n",
        "    fold_mse = mean_squared_error(y_test, y_pred)\n",
        "    fold_mape = mean_absolute_percentage_error(y_test, y_pred)\n",
        "\n",
        "    cv_mae.append(fold_mae)\n",
        "    cv_mse.append(fold_mse)\n",
        "    cv_mape.append(fold_mape)\n",
        "# Calculate mean of metrics across folds\n",
        "mean_cv_mae = np.mean(cv_mae)\n",
        "mean_cv_mse = np.mean(cv_mse)\n",
        "mean_cv_mape= np.mean(cv_mape)\n",
        "\n",
        "print('Mean Cross-validated MAE:', mean_cv_mae)\n",
        "print('Mean Cross-validated RMSE:', np.sqrt(mean_cv_mse))\n",
        "print('Mean Cross-validated MAPE:', mean_cv_mape)"
      ]
    }
  ],
  "metadata": {
    "colab": {
      "provenance": []
    },
    "kernelspec": {
      "display_name": "Python 3",
      "name": "python3"
    },
    "language_info": {
      "codemirror_mode": {
        "name": "ipython",
        "version": 3
      },
      "file_extension": ".py",
      "mimetype": "text/x-python",
      "name": "python",
      "nbconvert_exporter": "python",
      "pygments_lexer": "ipython3",
      "version": "3.11.9"
    }
  },
  "nbformat": 4,
  "nbformat_minor": 0
}
