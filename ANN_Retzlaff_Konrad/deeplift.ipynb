{
 "cells": [
  {
   "cell_type": "code",
   "execution_count": 10,
   "metadata": {},
   "outputs": [
    {
     "name": "stdout",
     "output_type": "stream",
     "text": [
      "[[ 1.44749541 -0.04658002 -0.9635649  -0.08836562 -0.49223989  0.1826542\n",
      "  -1.91664185 -0.53422871 -1.02223043  1.02223043 -0.0948456  -0.07679066\n",
      "  -0.0799459  -0.10423146 -0.06737448 -0.09679275 -0.08223486 -0.06737448\n",
      "   0.26174611 -0.08519369 -0.14027193 -0.08663628 -0.11119351 -0.0664537\n",
      "  -0.09218776 -0.10482848 -0.13799164 -0.08875749 -0.10119581 -0.09807016\n",
      "  -0.08071591 -0.11615407 -0.14778197 -0.13799164 -0.09151166 -0.08805593\n",
      "  -0.08945373 -0.09218776 -0.0954989  -0.11882506 -0.08298418 -0.07916859\n",
      "  -0.08875749 -0.09743347 -0.09614792 -0.11342362 -0.12298462 -0.08591792\n",
      "  -0.13093073 -0.0948456  -0.13189248 -0.07916859 -0.0873489  -0.08663628\n",
      "  -0.0873489  -0.09151166 -0.11776354 -0.08945373 -0.0948456  -0.11561287\n",
      "  -0.09352579 -0.11231382 -0.13753139 -0.11287002 -0.08519369 -0.08519369\n",
      "  -0.08805593 -0.13799164 -0.11452321 -0.08147883 -0.08519369 -0.0908307\n",
      "  -0.11561287 -0.14648237 -0.13237091  9.70614766 -0.13753139 -0.1166929\n",
      "  -0.12800509 -0.0799459  -0.12144052 -0.08945373 -0.10660036 -0.10776614\n",
      "  -0.10601288 -0.0948456  -0.10423146 -0.14072389 -0.12701589 -0.10180988\n",
      "  -0.08591792 -0.0948456  -0.11342362 -0.08298418 -0.12601942 -0.1198777\n",
      "  -0.10601288 -0.08071591 -0.10482848 -0.0908307  -0.13189248 -0.05961843\n",
      "  -0.08875749 -0.06457347 -0.1198777  -0.06828306 -0.13567594 -0.09418792\n",
      "  -0.13936395 -0.0735034  -0.08446343 -0.13706971 -0.16263778  4.38945631\n",
      "  -0.13473933 -0.15578254 -0.16303294 -0.14734994 -0.12349528 -0.14429257\n",
      "  -0.14992506 -0.12996235 -0.15701189 -0.22242863 -0.15204056 -0.14027193\n",
      "  -0.14429257 -0.15204056 -0.12349528 -0.15701189 -0.1507745  -0.22423692\n",
      "  -0.13379664 -0.27405299 -0.21194546 -0.15537081 -0.13237091 -0.1245107\n",
      "  -0.14296393 -0.21600299 -0.16460508 -0.1606489  -0.15660308 -0.23252521\n",
      "  -0.2985288  -0.13845047]]\n"
     ]
    },
    {
     "name": "stderr",
     "output_type": "stream",
     "text": [
      "C:\\Users\\kobra\\AppData\\Roaming\\Python\\Python311\\site-packages\\sklearn\\base.py:493: UserWarning: X does not have valid feature names, but StandardScaler was fitted with feature names\n",
      "  warnings.warn(\n"
     ]
    }
   ],
   "source": [
    "#use deeplift to compute the importance of each base in the input sequence\n",
    "import numpy as np\n",
    "import deeplift\n",
    "import pandas as pd\n",
    "import tensorflow as tf\n",
    "from keras.models import Model\n",
    "from deeplift.layers import NonlinearMxtsMode\n",
    "from deeplift.conversion import kerasapi_conversion as kc\n",
    "from deeplift.util import compile_func\n",
    "\n",
    "\n",
    "from keras.models import load_model\n",
    "from keras.models import Model\n",
    "import joblib\n",
    "\n",
    "#load the model\n",
    "loaded_model = tf.keras.models.load_model('model_ANN.keras')\n",
    "\n",
    "#load scaler with joblib\n",
    "scaler = joblib.load('scaler.pkl')\n",
    "\n",
    "#feature list \n",
    "features = ['age','weight','bmi','no_of_dependents','smoker','bloodpressure','diabetes','regular_ex','sex_female','sex_male','hereditary_diseases_Alzheimer','hereditary_diseases_Arthritis','hereditary_diseases_Cancer','hereditary_diseases_Diabetes','hereditary_diseases_Epilepsy','hereditary_diseases_EyeDisease','hereditary_diseases_HeartDisease','hereditary_diseases_High BP','hereditary_diseases_NoDisease','hereditary_diseases_Obesity','city_Atlanta','city_AtlanticCity','city_Bakersfield','city_Baltimore','city_Bloomington','city_Boston','city_Brimingham','city_Brookings','city_Buffalo','city_Cambridge','city_Canton','city_Carlsbad','city_Charleston','city_Charlotte','city_Chicago','city_Cincinnati','city_Cleveland','city_Columbia','city_Columbus','city_Denver','city_Escabana','city_Eureka','city_FallsCity','city_Fargo','city_Florence','city_Fresno','city_Georgia','city_GrandForks','city_Harrisburg','city_Hartford','city_Houston','city_Huntsville','city_Indianapolis','city_IowaCity','city_JeffersonCity','city_KanasCity','city_Kingman','city_Kingsport','city_Knoxville','city_LasVegas','city_Lincoln','city_LosAngeles','city_Louisville','city_Lovelock','city_Macon','city_Mandan','city_Marshall','city_Memphis','city_Mexicali','city_Miami','city_Minneapolis','city_Minot','city_Montrose','city_Nashville','city_NewOrleans','city_NewYork','city_Newport','city_Oceanside','city_Oklahoma','city_Orlando','city_Oxnard','city_PanamaCity','city_Pheonix','city_Phildelphia','city_Pittsburg','city_Portland','city_Prescott','city_Providence','city_Raleigh','city_Reno','city_Rochester','city_Salina','city_SanDeigo','city_SanFrancisco','city_SanJose','city_SanLuis','city_SantaFe','city_SantaRosa','city_SilverCity','city_Springfield','city_Stamford','city_Syracuse','city_Tampa','city_Trenton','city_Tucson','city_Warwick','city_WashingtonDC','city_Waterloo','city_Worcester','city_York','city_Youngstown','job_title_Academician','job_title_Accountant','job_title_Actor','job_title_Analyst','job_title_Architect','job_title_Beautician','job_title_Blogger','job_title_Buisnessman','job_title_CA','job_title_CEO','job_title_Chef','job_title_Clerks','job_title_Dancer','job_title_DataScientist','job_title_DefencePersonnels','job_title_Doctor','job_title_Engineer','job_title_Farmer','job_title_FashionDesigner','job_title_FilmDirector','job_title_FilmMaker','job_title_GovEmployee','job_title_HomeMakers','job_title_HouseKeeper','job_title_ITProfessional','job_title_Journalist','job_title_Labourer','job_title_Lawyer','job_title_Manager','job_title_Photographer','job_title_Police','job_title_Politician','job_title_Singer','job_title_Student','job_title_Technician']\n",
    "\n",
    "#initialize instance\n",
    "instance = [60.0,64,24.3,1,0,72,0,0,0,1,0,0,0,0,0,0,0,0,1,0,0,0,0,0,0,0,0,0,0,0,0,0,0,0,0,0,0,0,0,0,0,0,0,0,0,0,0,0,0,0,0,0,0,0,0,0,0,0,0,0,0,0,0,0,0,0,0,0,0,0,0,0,0,0,0,1,0,0,0,0,0,0,0,0,0,0,0,0,0,0,0,0,0,0,0,0,0,0,0,0,0,0,0,0,0,0,0,0,0,0,0,0,0,1,0,0,0,0,0,0,0,0,0,0,0,0,0,0,0,0,0,0,0,0,0,0,0,0,0,0,0,0,0,0,0,0]\n",
    "\n",
    "#convert instance to numpy array\n",
    "instance = np.array(instance)\n",
    "\n",
    "#reshape instance\n",
    "instance = instance.reshape(1,-1)\n",
    "\n",
    "#scale the instance\n",
    "instance = scaler.transform(instance)\n",
    "\n",
    "print(instance)"
   ]
  },
  {
   "cell_type": "code",
   "execution_count": 28,
   "metadata": {},
   "outputs": [
    {
     "ename": "TypeError",
     "evalue": "can only concatenate str (not \"KeysViewHDF5\") to str",
     "output_type": "error",
     "traceback": [
      "\u001b[1;31m---------------------------------------------------------------------------\u001b[0m",
      "\u001b[1;31mTypeError\u001b[0m                                 Traceback (most recent call last)",
      "Cell \u001b[1;32mIn[28], line 8\u001b[0m\n\u001b[0;32m      5\u001b[0m \u001b[38;5;28;01mfrom\u001b[39;00m \u001b[38;5;21;01mdeeplift\u001b[39;00m\u001b[38;5;21;01m.\u001b[39;00m\u001b[38;5;21;01mutil\u001b[39;00m \u001b[38;5;28;01mimport\u001b[39;00m compile_func\n\u001b[0;32m      7\u001b[0m \u001b[38;5;66;03m#convert the keras model to a deeplift model\u001b[39;00m\n\u001b[1;32m----> 8\u001b[0m deeplift_model \u001b[38;5;241m=\u001b[39m \u001b[43mkc\u001b[49m\u001b[38;5;241;43m.\u001b[39;49m\u001b[43mconvert_model_from_saved_files\u001b[49m\u001b[43m(\u001b[49m\n\u001b[0;32m      9\u001b[0m \u001b[43m    \u001b[49m\u001b[43mh5_file\u001b[49m\u001b[38;5;241;43m=\u001b[39;49m\u001b[38;5;124;43m'\u001b[39;49m\u001b[38;5;124;43mmodel_ANN.h5\u001b[39;49m\u001b[38;5;124;43m'\u001b[39;49m\u001b[43m,\u001b[49m\n\u001b[0;32m     10\u001b[0m \u001b[43m    \u001b[49m\u001b[43mnonlinear_mxts_mode\u001b[49m\u001b[38;5;241;43m=\u001b[39;49m\u001b[43mNonlinearMxtsMode\u001b[49m\u001b[38;5;241;43m.\u001b[39;49m\u001b[43mDeepLIFT_GenomicsDefault\u001b[49m\u001b[43m)\u001b[49m\n\u001b[0;32m     11\u001b[0m \u001b[38;5;66;03m# Specify the index of the layer to explain\u001b[39;00m\n\u001b[0;32m     12\u001b[0m find_scores_layer_idx \u001b[38;5;241m=\u001b[39m \u001b[38;5;241m0\u001b[39m\n",
      "File \u001b[1;32m~\\AppData\\Roaming\\Python\\Python311\\site-packages\\deeplift\\conversion\\kerasapi_conversion.py:387\u001b[0m, in \u001b[0;36mconvert_model_from_saved_files\u001b[1;34m(h5_file, json_file, yaml_file, **kwargs)\u001b[0m\n\u001b[0;32m    383\u001b[0m \u001b[38;5;28;01mfor\u001b[39;00m layer_config \u001b[38;5;129;01min\u001b[39;00m layer_configs:\n\u001b[0;32m    385\u001b[0m     layer_name \u001b[38;5;241m=\u001b[39m layer_config[\u001b[38;5;124m\"\u001b[39m\u001b[38;5;124mconfig\u001b[39m\u001b[38;5;124m\"\u001b[39m][\u001b[38;5;124m\"\u001b[39m\u001b[38;5;124mname\u001b[39m\u001b[38;5;124m\"\u001b[39m]\n\u001b[0;32m    386\u001b[0m     \u001b[38;5;28;01massert\u001b[39;00m layer_name \u001b[38;5;129;01min\u001b[39;00m model_weights,\\\n\u001b[1;32m--> 387\u001b[0m         (\u001b[38;5;124;43m\"\u001b[39;49m\u001b[38;5;124;43mLayer \u001b[39;49m\u001b[38;5;124;43m\"\u001b[39;49m\u001b[38;5;241;43m+\u001b[39;49m\u001b[43mlayer_name\u001b[49m\u001b[38;5;241;43m+\u001b[39;49m\u001b[38;5;124;43m\"\u001b[39;49m\u001b[38;5;124;43m is in the layer names but not in the \u001b[39;49m\u001b[38;5;124;43m\"\u001b[39;49m\n\u001b[0;32m    388\u001b[0m \u001b[43m         \u001b[49m\u001b[38;5;241;43m+\u001b[39;49m\u001b[38;5;124;43m\"\u001b[39;49m\u001b[38;5;124;43m weights file which has layer names \u001b[39;49m\u001b[38;5;124;43m\"\u001b[39;49m\u001b[38;5;241;43m+\u001b[39;49m\u001b[43mmodel_weights\u001b[49m\u001b[38;5;241;43m.\u001b[39;49m\u001b[43mkeys\u001b[49m\u001b[43m(\u001b[49m\u001b[43m)\u001b[49m)\n\u001b[0;32m    390\u001b[0m     \u001b[38;5;28;01mif\u001b[39;00m (layer_config[\u001b[38;5;124m\"\u001b[39m\u001b[38;5;124mclass_name\u001b[39m\u001b[38;5;124m\"\u001b[39m] \u001b[38;5;129;01min\u001b[39;00m [\u001b[38;5;124m\"\u001b[39m\u001b[38;5;124mModel\u001b[39m\u001b[38;5;124m\"\u001b[39m, \u001b[38;5;124m\"\u001b[39m\u001b[38;5;124mSequential\u001b[39m\u001b[38;5;124m\"\u001b[39m]):\n\u001b[0;32m    391\u001b[0m         nested_model_weights \u001b[38;5;241m=\u001b[39m\\\n\u001b[0;32m    392\u001b[0m             OrderedDict(\u001b[38;5;28mzip\u001b[39m(\n\u001b[0;32m    393\u001b[0m              model_weights[layer_name]\u001b[38;5;241m.\u001b[39mattrs[\u001b[38;5;124m\"\u001b[39m\u001b[38;5;124mweight_names\u001b[39m\u001b[38;5;124m\"\u001b[39m],\n\u001b[0;32m    394\u001b[0m              [model_weights[layer_name][x] \u001b[38;5;28;01mfor\u001b[39;00m x \u001b[38;5;129;01min\u001b[39;00m\n\u001b[0;32m    395\u001b[0m               model_weights[layer_name]\u001b[38;5;241m.\u001b[39mattrs[\u001b[38;5;124m\"\u001b[39m\u001b[38;5;124mweight_names\u001b[39m\u001b[38;5;124m\"\u001b[39m]]))\n",
      "\u001b[1;31mTypeError\u001b[0m: can only concatenate str (not \"KeysViewHDF5\") to str"
     ]
    }
   ],
   "source": [
    "import numpy as np\n",
    "from keras.models import Model\n",
    "from deeplift.layers import NonlinearMxtsMode\n",
    "from deeplift.conversion import kerasapi_conversion as kc\n",
    "from deeplift.util import compile_func\n",
    "\n",
    "#convert the keras model to a deeplift model\n",
    "deeplift_model = kc.convert_model_from_saved_files(\n",
    "    h5_file=model_ANN.h5,\n",
    "    nonlinear_mxts_mode=NonlinearMxtsMode.DeepLIFT_GenomicsDefault)\n",
    "# Specify the index of the layer to explain\n",
    "find_scores_layer_idx = 0\n",
    "\n",
    "# Compile the function that computes the contributions\n",
    "deeplift_contribs_func = compile_func([deeplift_model.get_layers()[find_scores_layer_idx].get_activation_vars()],\n",
    "                                      deeplift_model.get_target_contrib_vars_func(find_scores_layer_idx))\n",
    "\n",
    "# Compute the importance scores\n",
    "scores = np.array(deeplift_contribs_func(task_idx=0,\n",
    "                                         input_data_list=[instance],\n",
    "                                         batch_size=10,\n",
    "                                         progress_update=None))"
   ]
  }
 ],
 "metadata": {
  "kernelspec": {
   "display_name": "Python 3",
   "language": "python",
   "name": "python3"
  },
  "language_info": {
   "codemirror_mode": {
    "name": "ipython",
    "version": 3
   },
   "file_extension": ".py",
   "mimetype": "text/x-python",
   "name": "python",
   "nbconvert_exporter": "python",
   "pygments_lexer": "ipython3",
   "version": "3.11.9"
  }
 },
 "nbformat": 4,
 "nbformat_minor": 2
}
