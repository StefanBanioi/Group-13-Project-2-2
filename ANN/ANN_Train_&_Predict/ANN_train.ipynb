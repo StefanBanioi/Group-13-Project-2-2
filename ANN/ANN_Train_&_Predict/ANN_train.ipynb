{
 "cells": [
  {
   "cell_type": "code",
   "execution_count": 3,
   "metadata": {},
   "outputs": [],
   "source": [
    "import os\n",
    "import pandas as pd\n",
    "import tensorflow as tf\n",
    "from sklearn.model_selection import train_test_split, KFold\n",
    "from sklearn.preprocessing import StandardScaler\n",
    "from sklearn.model_selection import GridSearchCV\n",
    "\n",
    "import tensorflow.keras.layers as layers"
   ]
  },
  {
   "cell_type": "code",
   "execution_count": 4,
   "metadata": {},
   "outputs": [
    {
     "data": {
      "text/html": [
       "<div>\n",
       "<style scoped>\n",
       "    .dataframe tbody tr th:only-of-type {\n",
       "        vertical-align: middle;\n",
       "    }\n",
       "\n",
       "    .dataframe tbody tr th {\n",
       "        vertical-align: top;\n",
       "    }\n",
       "\n",
       "    .dataframe thead th {\n",
       "        text-align: right;\n",
       "    }\n",
       "</style>\n",
       "<table border=\"1\" class=\"dataframe\">\n",
       "  <thead>\n",
       "    <tr style=\"text-align: right;\">\n",
       "      <th></th>\n",
       "      <th>Age</th>\n",
       "      <th>Diabetes</th>\n",
       "      <th>BloodPressureProblems</th>\n",
       "      <th>AnyTransplants</th>\n",
       "      <th>AnyChronicDiseases</th>\n",
       "      <th>Height</th>\n",
       "      <th>Weight</th>\n",
       "      <th>KnownAllergies</th>\n",
       "      <th>HistoryOfCancerInFamily</th>\n",
       "      <th>NumberOfMajorSurgeries</th>\n",
       "      <th>PremiumPrice</th>\n",
       "    </tr>\n",
       "  </thead>\n",
       "  <tbody>\n",
       "    <tr>\n",
       "      <th>0</th>\n",
       "      <td>45</td>\n",
       "      <td>0</td>\n",
       "      <td>0</td>\n",
       "      <td>0</td>\n",
       "      <td>0</td>\n",
       "      <td>155</td>\n",
       "      <td>57</td>\n",
       "      <td>0</td>\n",
       "      <td>0</td>\n",
       "      <td>0</td>\n",
       "      <td>25000</td>\n",
       "    </tr>\n",
       "    <tr>\n",
       "      <th>1</th>\n",
       "      <td>60</td>\n",
       "      <td>1</td>\n",
       "      <td>0</td>\n",
       "      <td>0</td>\n",
       "      <td>0</td>\n",
       "      <td>180</td>\n",
       "      <td>73</td>\n",
       "      <td>0</td>\n",
       "      <td>0</td>\n",
       "      <td>0</td>\n",
       "      <td>29000</td>\n",
       "    </tr>\n",
       "    <tr>\n",
       "      <th>2</th>\n",
       "      <td>36</td>\n",
       "      <td>1</td>\n",
       "      <td>1</td>\n",
       "      <td>0</td>\n",
       "      <td>0</td>\n",
       "      <td>158</td>\n",
       "      <td>59</td>\n",
       "      <td>0</td>\n",
       "      <td>0</td>\n",
       "      <td>1</td>\n",
       "      <td>23000</td>\n",
       "    </tr>\n",
       "    <tr>\n",
       "      <th>3</th>\n",
       "      <td>52</td>\n",
       "      <td>1</td>\n",
       "      <td>1</td>\n",
       "      <td>0</td>\n",
       "      <td>1</td>\n",
       "      <td>183</td>\n",
       "      <td>93</td>\n",
       "      <td>0</td>\n",
       "      <td>0</td>\n",
       "      <td>2</td>\n",
       "      <td>28000</td>\n",
       "    </tr>\n",
       "    <tr>\n",
       "      <th>4</th>\n",
       "      <td>38</td>\n",
       "      <td>0</td>\n",
       "      <td>0</td>\n",
       "      <td>0</td>\n",
       "      <td>1</td>\n",
       "      <td>166</td>\n",
       "      <td>88</td>\n",
       "      <td>0</td>\n",
       "      <td>0</td>\n",
       "      <td>1</td>\n",
       "      <td>23000</td>\n",
       "    </tr>\n",
       "  </tbody>\n",
       "</table>\n",
       "</div>"
      ],
      "text/plain": [
       "   Age  Diabetes  BloodPressureProblems  AnyTransplants  AnyChronicDiseases  \\\n",
       "0   45         0                      0               0                   0   \n",
       "1   60         1                      0               0                   0   \n",
       "2   36         1                      1               0                   0   \n",
       "3   52         1                      1               0                   1   \n",
       "4   38         0                      0               0                   1   \n",
       "\n",
       "   Height  Weight  KnownAllergies  HistoryOfCancerInFamily  \\\n",
       "0     155      57               0                        0   \n",
       "1     180      73               0                        0   \n",
       "2     158      59               0                        0   \n",
       "3     183      93               0                        0   \n",
       "4     166      88               0                        0   \n",
       "\n",
       "   NumberOfMajorSurgeries  PremiumPrice  \n",
       "0                       0         25000  \n",
       "1                       0         29000  \n",
       "2                       1         23000  \n",
       "3                       2         28000  \n",
       "4                       1         23000  "
      ]
     },
     "execution_count": 4,
     "metadata": {},
     "output_type": "execute_result"
    }
   ],
   "source": [
    "#Load data\n",
    "data = pd.read_csv('Medicalpremium.csv')\n",
    "\n",
    "data.head()"
   ]
  },
  {
   "cell_type": "code",
   "execution_count": 5,
   "metadata": {},
   "outputs": [
    {
     "name": "stdout",
     "output_type": "stream",
     "text": [
      "num of features: 10\n",
      "[[-0.33780827 -0.83363909 -0.93575345 ...  1.94106722 -0.36528836\n",
      "   0.47984854]\n",
      " [ 0.16463054 -0.83363909 -0.93575345 ... -0.51518051 -0.36528836\n",
      "  -0.88929459]\n",
      " [ 1.74372396  1.19955988 -0.93575345 ... -0.51518051 -0.36528836\n",
      "  -0.88929459]\n",
      " ...\n",
      " [ 0.23640752 -0.83363909  1.06865756 ... -0.51518051 -0.36528836\n",
      "  -0.88929459]\n",
      " [-1.27090893 -0.83363909  1.06865756 ... -0.51518051 -0.36528836\n",
      "   0.47984854]\n",
      " [ 1.16950817  1.19955988 -0.93575345 ... -0.51518051 -0.36528836\n",
      "  -0.88929459]]\n"
     ]
    }
   ],
   "source": [
    "#Preprocess data\n",
    "X = data.drop('PremiumPrice', axis=1)\n",
    "num_columns = X.shape[1]\n",
    "print(\"num of features: \" + str(num_columns))\n",
    "y = data['PremiumPrice']\n",
    "X_train, X_test, y_train, y_test = train_test_split(X, y, test_size=0.25, random_state=69)\n",
    "scaler = StandardScaler()\n",
    "scaler.fit(X_train)\n",
    "X_train_scaled = scaler.transform(X_train)\n",
    "X_test_scaled = scaler.transform(X_test)\n",
    "print(X_train_scaled)\n"
   ]
  },
  {
   "cell_type": "code",
   "execution_count": null,
   "metadata": {},
   "outputs": [],
   "source": [
    "#Hyperparameter tuning\n",
    "\n",
    "#Hidden Layers\n",
    "[1,2,3,4,5]\n",
    "\n",
    "#Neurons in hidden layer\n",
    "[3, 5, 7, 10]\n",
    "\n",
    "#Optimizer\n",
    "['adamW', 'sgd', 'Adadelta']\n",
    "\n",
    "#Learning rate\n",
    "[0.001, 0.01, 0.1]\n",
    "\n",
    "#Batch size\n",
    "[32, 64, 128]\n",
    "\n",
    "#Epochs\n",
    "[100, 200, 300]\n",
    "\n",
    "#Regularization\n",
    "[0.01, 0.1, 0.5]\n",
    "\n",
    "#num of parameters: 5*4*3*3*3*3*3 = 9720"
   ]
  },
  {
   "cell_type": "code",
   "execution_count": 25,
   "metadata": {
    "vscode": {
     "languageId": "perl"
    }
   },
   "outputs": [
    {
     "ename": "NameError",
     "evalue": "name 'root_mean_squared_error' is not defined",
     "output_type": "error",
     "traceback": [
      "\u001b[1;31m---------------------------------------------------------------------------\u001b[0m",
      "\u001b[1;31mNameError\u001b[0m                                 Traceback (most recent call last)",
      "Cell \u001b[1;32mIn[25], line 40\u001b[0m\n\u001b[0;32m     37\u001b[0m \u001b[38;5;66;03m# For each set of parameters\u001b[39;00m\n\u001b[0;32m     38\u001b[0m \u001b[38;5;28;01mfor\u001b[39;00m params \u001b[38;5;129;01min\u001b[39;00m param_list:\n\u001b[0;32m     39\u001b[0m     \u001b[38;5;66;03m# Create a model\u001b[39;00m\n\u001b[1;32m---> 40\u001b[0m     model \u001b[38;5;241m=\u001b[39m \u001b[43mcreate_model\u001b[49m\u001b[43m(\u001b[49m\u001b[38;5;241;43m*\u001b[39;49m\u001b[38;5;241;43m*\u001b[39;49m\u001b[43mparams\u001b[49m\u001b[43m)\u001b[49m\n\u001b[0;32m     42\u001b[0m     \u001b[38;5;66;03m# Train the model\u001b[39;00m\n\u001b[0;32m     43\u001b[0m     model\u001b[38;5;241m.\u001b[39mfit(X, y, epochs\u001b[38;5;241m=\u001b[39m\u001b[38;5;241m100\u001b[39m, batch_size\u001b[38;5;241m=\u001b[39m\u001b[38;5;241m32\u001b[39m, verbose\u001b[38;5;241m=\u001b[39m\u001b[38;5;241m0\u001b[39m)\n",
      "Cell \u001b[1;32mIn[25], line 22\u001b[0m, in \u001b[0;36mcreate_model\u001b[1;34m(hidden_layers, neurons, optimizer, learning_rate, regularization)\u001b[0m\n\u001b[0;32m     19\u001b[0m \u001b[38;5;28;01melif\u001b[39;00m optimizer \u001b[38;5;241m==\u001b[39m \u001b[38;5;124m'\u001b[39m\u001b[38;5;124mAdadelta\u001b[39m\u001b[38;5;124m'\u001b[39m:\n\u001b[0;32m     20\u001b[0m     optimizer \u001b[38;5;241m=\u001b[39m tf\u001b[38;5;241m.\u001b[39mkeras\u001b[38;5;241m.\u001b[39moptimizers\u001b[38;5;241m.\u001b[39mAdadelta(learning_rate\u001b[38;5;241m=\u001b[39mlearning_rate)\n\u001b[1;32m---> 22\u001b[0m model\u001b[38;5;241m.\u001b[39mcompile(optimizer\u001b[38;5;241m=\u001b[39moptimizer, loss\u001b[38;5;241m=\u001b[39m\u001b[38;5;124m'\u001b[39m\u001b[38;5;124mmse\u001b[39m\u001b[38;5;124m'\u001b[39m, metrics\u001b[38;5;241m=\u001b[39m[\u001b[38;5;124m'\u001b[39m\u001b[38;5;124mmae\u001b[39m\u001b[38;5;124m'\u001b[39m, \u001b[43mroot_mean_squared_error\u001b[49m, mean_absolute_percentage_error])\n\u001b[0;32m     23\u001b[0m \u001b[38;5;28;01mreturn\u001b[39;00m model\n",
      "\u001b[1;31mNameError\u001b[0m: name 'root_mean_squared_error' is not defined"
     ]
    }
   ],
   "source": [
    "import tensorflow as tf\n",
    "from sklearn.model_selection import ParameterSampler\n",
    "import numpy as np\n",
    "\n",
    "# Define your TensorFlow ANN model\n",
    "def create_model(hidden_layers, neurons, optimizer, learning_rate, regularization):\n",
    "    model = tf.keras.Sequential()\n",
    "    model.add(tf.keras.layers.Dense(neurons, input_shape=(input_dim,)))\n",
    "    model.add(tf.keras.layers.LeakyReLU())\n",
    "    for _ in range(hidden_layers - 1):\n",
    "        model.add(tf.keras.layers.Dense(neurons))\n",
    "        model.add(tf.keras.layers.LeakyReLU())\n",
    "    model.add(tf.keras.layers.Dense(1, activation='linear'))\n",
    "    \n",
    "    if optimizer == 'adamW':\n",
    "        optimizer = tf.keras.optimizers.AdamW(learning_rate=learning_rate)\n",
    "    elif optimizer == 'sgd':\n",
    "        optimizer = tf.keras.optimizers.SGD(learning_rate=learning_rate)\n",
    "    elif optimizer == 'Adadelta':\n",
    "        optimizer = tf.keras.optimizers.Adadelta(learning_rate=learning_rate)\n",
    "    \n",
    "    model.compile(optimizer=optimizer, loss='mse', metrics=['mae', root_mean_squared_error, mean_absolute_percentage_error])\n",
    "    return model\n",
    "\n",
    "# Define the parameter grid for grid search\n",
    "param_grid = {\n",
    "    'hidden_layers': [1, 2, 3, 4, 5],\n",
    "    'neurons': [3, 5, 7, 10],\n",
    "    'optimizer': ['adamW', 'sgd', 'Adadelta'],\n",
    "    'learning_rate': [0.001, 0.01, 0.1],\n",
    "    'regularization': [0.01, 0.1, 0.5]\n",
    "}\n",
    "\n",
    "# Create a ParameterSampler\n",
    "param_list = list(ParameterSampler(param_grid, n_iter=1, random_state=42))\n",
    "\n",
    "# For each set of parameters\n",
    "for params in param_list:\n",
    "    # Create a model\n",
    "    model = create_model(**params)\n",
    "    \n",
    "    # Train the model\n",
    "    model.fit(X, y, epochs=100, batch_size=32, verbose=0)\n",
    "    \n",
    "    # Evaluate the model\n",
    "    score = model.evaluate(X, y, verbose=0)\n",
    "    \n",
    "    # Print the score\n",
    "    print(\"Parameters: \", params)\n",
    "    print(\"Score: \", score)\n"
   ]
  },
  {
   "cell_type": "code",
   "execution_count": 18,
   "metadata": {
    "vscode": {
     "languageId": "perl"
    }
   },
   "outputs": [
    {
     "name": "stdout",
     "output_type": "stream",
     "text": [
      "Best Parameters:  {'regularization': 0.1, 'optimizer': 'adamW', 'neurons': 9, 'learning_rate': 0.01, 'hidden_layers': 7}\n",
      "Best Score:  11821616.0\n",
      "[11821616.0, 2333.752197265625, 3438.2578125, 9.844259262084961]\n"
     ]
    }
   ],
   "source": [
    "import tensorflow as tf\n",
    "from sklearn.model_selection import ParameterSampler\n",
    "import numpy as np\n",
    "\n",
    "# Assume X and y are defined somewhere above this code\n",
    "input_dim = X.shape[1]\n",
    "\n",
    "# Define your TensorFlow ANN model\n",
    "def create_model(hidden_layers, neurons, optimizer, learning_rate, regularization):\n",
    "    model = tf.keras.Sequential()\n",
    "    model.add(tf.keras.layers.Dense(neurons, input_shape=(input_dim,)))\n",
    "    model.add(tf.keras.layers.LeakyReLU())\n",
    "    for _ in range(hidden_layers - 1):\n",
    "        model.add(tf.keras.layers.Dense(neurons))\n",
    "        model.add(tf.keras.layers.LeakyReLU())\n",
    "    model.add(tf.keras.layers.Dense(1, activation='linear'))\n",
    "    \n",
    "    if optimizer == 'adamW':\n",
    "        optimizer = tf.keras.optimizers.AdamW(learning_rate=learning_rate)\n",
    "    elif optimizer == 'sgd':\n",
    "        optimizer = tf.keras.optimizers.SGD(learning_rate=learning_rate)\n",
    "    elif optimizer == 'Adadelta':\n",
    "        optimizer = tf.keras.optimizers.Adadelta(learning_rate=learning_rate)\n",
    "    \n",
    "    model.compile(optimizer=optimizer, loss='mse', metrics=['mae', tf.keras.metrics.RootMeanSquaredError(), tf.keras.metrics.MeanAbsolutePercentageError()])\n",
    "    return model\n",
    "\n",
    "# Define the parameter grid for grid search\n",
    "param_grid = {\n",
    "    'hidden_layers': [2, 3, 4, 5, 6,7],\n",
    "    'neurons': [3, 5, 6, 7,8, 9, 10],\n",
    "    'optimizer': ['adamW', 'sgd', 'Adadelta'],\n",
    "    'learning_rate': [0.001, 0.01],\n",
    "    'regularization': [0.01, 0.1]\n",
    "}\n",
    "\n",
    "# Create a ParameterSampler\n",
    "param_list = list(ParameterSampler(param_grid, n_iter=500, random_state=42))\n",
    "best_score = np.inf\n",
    "best_scores = None\n",
    "best_params = None\n",
    "# For each set of parameters\n",
    "for params in param_list:\n",
    "    # Create a model\n",
    "    model = create_model(**params)\n",
    "    \n",
    "    # Train the model\n",
    "    model.fit(X_train_scaled, y_train, epochs=150, batch_size=32, verbose=0)\n",
    "    \n",
    "    # Evaluate the model\n",
    "    score = model.evaluate(X_test_scaled, y_test, verbose=0)\n",
    "    \n",
    "    #Print the score\n",
    "    #print(\"Parameters: \", params)\n",
    "    #print(\"Score: \", score)\n",
    "\n",
    "    if score[0] < best_score:\n",
    "        best_score = score[0]\n",
    "        best_params = params\n",
    "        best_scores = score\n",
    "\n",
    "print(\"Best Parameters: \", best_params)\n",
    "print(\"Best Score: \", best_score)\n",
    "print(best_scores)\n"
   ]
  },
  {
   "cell_type": "code",
   "execution_count": 10,
   "metadata": {
    "vscode": {
     "languageId": "perl"
    }
   },
   "outputs": [
    {
     "name": "stdout",
     "output_type": "stream",
     "text": [
      "Best scores:  [12293031.0, 2383.6201171875, 3506.141845703125, 10.432963371276855]\n"
     ]
    }
   ],
   "source": [
    "print(\"Best scores: \", best_scores)"
   ]
  },
  {
   "cell_type": "code",
   "execution_count": 15,
   "metadata": {
    "vscode": {
     "languageId": "perl"
    }
   },
   "outputs": [
    {
     "name": "stdout",
     "output_type": "stream",
     "text": [
      "[15617910.0, 2858.48876953125, 3951.9501953125, 12.902116775512695]\n"
     ]
    }
   ],
   "source": [
    "#hidden_layers, neurons, optimizer, learning_rate, regularization    \n",
    "model = create_model(4, 10, 'adamW', 0.01, 0.01)\n",
    "\n",
    "\n",
    "# Train the model\n",
    "model.fit(X_train_scaled, y_train, epochs=150, batch_size=32, verbose = 0)\n",
    "\n",
    "# Evaluate the model\n",
    "score = model.evaluate(X_test_scaled, y_test, verbose=0)\n",
    "\n",
    "print(score)"
   ]
  }
 ],
 "metadata": {
  "kernelspec": {
   "display_name": "Python 3",
   "language": "python",
   "name": "python3"
  },
  "language_info": {
   "codemirror_mode": {
    "name": "ipython",
    "version": 3
   },
   "file_extension": ".py",
   "mimetype": "text/x-python",
   "name": "python",
   "nbconvert_exporter": "python",
   "pygments_lexer": "ipython3",
   "version": "3.11.9"
  }
 },
 "nbformat": 4,
 "nbformat_minor": 2
}
