{
 "cells": [
  {
   "cell_type": "code",
   "execution_count": null,
   "metadata": {},
   "outputs": [],
   "source": [
    "import xgboost as xgb\n",
    "import pandas as pd\n",
    "import numpy as np\n",
    "loaded_model = xgb.XGBRegressor()\n",
    "loaded_model.load_model('xgboost_model.json')\n",
    "import joblib\n",
    "shap.initjs()"
   ]
  },
  {
   "cell_type": "code",
   "execution_count": null,
   "metadata": {},
   "outputs": [],
   "source": [
    "# load the sklearn particial dependence plot library\n",
    "from sklearn.inspection import plot_partial_dependence\n",
    "\n"
   ]
  },
  {
   "cell_type": "code",
   "execution_count": null,
   "metadata": {},
   "outputs": [],
   "source": [
    "#load the data\n",
    "X = pd.read_csv('X_train.csv')\n",
    "\n",
    "#load the model\n",
    "PartialDependenceDisplay.from_estimator(clf, X, features)\n",
    "\n",
    "\n",
    "\n",
    "\n"
   ]
  }
 ],
 "metadata": {
  "language_info": {
   "name": "python"
  }
 },
 "nbformat": 4,
 "nbformat_minor": 2
}
